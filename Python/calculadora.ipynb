{
 "cells": [
  {
   "cell_type": "code",
   "execution_count": 7,
   "metadata": {},
   "outputs": [],
   "source": [
    "def menu():\n",
    "    menup = '''\n",
    "    *****************\n",
    "    * 1-Suma        *\n",
    "    * 2-Resta       *\n",
    "    * 3-Division    *\n",
    "    * 4-multiplica  *\n",
    "    *****************\n",
    "    ''' \n",
    "    opciones=int(input(\"ingrese la opcion\"))\n",
    "    return(opciones)"
   ]
  },
  {
   "cell_type": "code",
   "execution_count": null,
   "metadata": {},
   "outputs": [],
   "source": [
    "def selecn(a,b):\n",
    "    a=float(input(\"ingrese un valor\"))\n",
    "    b=float(input(\"ingrese el segundo valor\"))\n",
    "    \n",
    "    return(a,b)\n"
   ]
  },
  {
   "cell_type": "code",
   "execution_count": null,
   "metadata": {},
   "outputs": [],
   "source": [
    "if opciones == 1:\n",
    "    print(selecn())\n",
    "    resultado= a+b\n",
    "    print(resultado)"
   ]
  }
 ],
 "metadata": {
  "kernelspec": {
   "display_name": "Python 3",
   "language": "python",
   "name": "python3"
  },
  "language_info": {
   "codemirror_mode": {
    "name": "ipython",
    "version": 3
   },
   "file_extension": ".py",
   "mimetype": "text/x-python",
   "name": "python",
   "nbconvert_exporter": "python",
   "pygments_lexer": "ipython3",
   "version": "3.11.1"
  },
  "orig_nbformat": 4
 },
 "nbformat": 4,
 "nbformat_minor": 2
}
