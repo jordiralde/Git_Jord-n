{
 "cells": [
  {
   "cell_type": "code",
   "execution_count": 7,
   "metadata": {},
   "outputs": [],
   "source": [
    "#Crear un programa que convierta temperatura entre C° y F°\n",
    "'''                     FORMULAS   \n",
    "Farenheit a Celsius\n",
    "C= 5*   (F- 32) /9\n",
    "\n",
    "De Celsius a Farenheit\n",
    "F= 9*C  /5 + 32\n",
    "'''\n",
    "def MenuInicio():\n",
    "    Menu = '''\n",
    "    1-  De Farenheit a Celsius \n",
    "    2-  De Celsius a Farenheit\n",
    "\n",
    "    3-  Salir\n",
    "    '''\n",
    "    return(print(Menu))"
   ]
  },
  {
   "cell_type": "code",
   "execution_count": 2,
   "metadata": {},
   "outputs": [],
   "source": [
    "def FarenheitCelsius(a):\n",
    "    CalculoC= 5*   (a- 32) /9\n",
    "    return(CalculoC)"
   ]
  },
  {
   "cell_type": "code",
   "execution_count": 3,
   "metadata": {},
   "outputs": [],
   "source": [
    "def CelsiusFarenheit(a):\n",
    "    CalculoF= 9*a  /5 + 32\n",
    "    return(CalculoF)"
   ]
  },
  {
   "cell_type": "code",
   "execution_count": 10,
   "metadata": {},
   "outputs": [
    {
     "name": "stdout",
     "output_type": "stream",
     "text": [
      "\n",
      "    1-  De Farenheit a Celsius \n",
      "    2-  De Celsius a Farenheit\n",
      "\n",
      "    3-  Salir\n",
      "    \n",
      "el resultado del calculo es 10.0\n",
      "\n",
      "    1-  De Farenheit a Celsius \n",
      "    2-  De Celsius a Farenheit\n",
      "\n",
      "    3-  Salir\n",
      "    \n",
      "el resultado del calculo es 122.0\n",
      "\n",
      "    1-  De Farenheit a Celsius \n",
      "    2-  De Celsius a Farenheit\n",
      "\n",
      "    3-  Salir\n",
      "    \n"
     ]
    }
   ],
   "source": [
    "while True:\n",
    "    MenuInicio()\n",
    "    opcion = int(input(\"Ingrese opcion a elegir: \"))\n",
    "    if opcion == 3:\n",
    "        break\n",
    "    numeroTrans = int(input(\"Ingrese el numero a trans: \"))\n",
    "    if opcion == 1:\n",
    "        CalculoFaC = FarenheitCelsius(numeroTrans)\n",
    "        print(f\"el resultado del calculo es {CalculoFaC}\")\n",
    "    if opcion == 2:\n",
    "        CalculoCaF = CelsiusFarenheit(numeroTrans)\n",
    "        print(f\"el resultado del calculo es {CalculoCaF}\")"
   ]
  }
 ],
 "metadata": {
  "kernelspec": {
   "display_name": "Python 3",
   "language": "python",
   "name": "python3"
  },
  "language_info": {
   "codemirror_mode": {
    "name": "ipython",
    "version": 3
   },
   "file_extension": ".py",
   "mimetype": "text/x-python",
   "name": "python",
   "nbconvert_exporter": "python",
   "pygments_lexer": "ipython3",
   "version": "3.11.3"
  },
  "orig_nbformat": 4
 },
 "nbformat": 4,
 "nbformat_minor": 2
}
