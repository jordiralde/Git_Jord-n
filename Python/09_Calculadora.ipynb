{
 "cells": [
  {
   "cell_type": "code",
   "execution_count": null,
   "metadata": {},
   "outputs": [],
   "source": [
    "def MenuInicio():\n",
    "    menu = '''\n",
    "    1-  Suma\n",
    "    2-  Resta\n",
    "    3-  Multiplicacion\n",
    "    4-  Division\n",
    "    \n",
    "    5-  Salir\n",
    "    '''"
   ]
  },
  {
   "cell_type": "code",
   "execution_count": null,
   "metadata": {},
   "outputs": [],
   "source": [
    "def Suma(a, b):\n",
    "    "
   ]
  }
 ],
 "metadata": {
  "language_info": {
   "name": "python"
  },
  "orig_nbformat": 4
 },
 "nbformat": 4,
 "nbformat_minor": 2
}
