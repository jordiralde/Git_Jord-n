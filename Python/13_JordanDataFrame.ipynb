{
 "cells": [
  {
   "cell_type": "code",
   "execution_count": 3,
   "metadata": {},
   "outputs": [
    {
     "name": "stdout",
     "output_type": "stream",
     "text": [
      "      id;Palabra;Lenguaje;Tipo\n",
      "0        1;and;python;operador\n",
      "1                2;as;python;n\n",
      "2            3;assert;python;n\n",
      "3             4;async;python;n\n",
      "4             5;await;python;n\n",
      "5         6;break;python;ciclo\n",
      "6             7;class;python;n\n",
      "7    8;continue;python;funcion\n",
      "8         9;def;python;funcion\n",
      "9              10;del;python;n\n",
      "10  11;elif;python;condicional\n",
      "11  12;else;python;condicional\n",
      "12          13;except;python;n\n",
      "13           14;False;python;n\n",
      "14         15;finally;python;n\n",
      "15         16;for;python;ciclo\n",
      "16            17;from;python;n\n",
      "17          18;global;python;n\n",
      "18    19;if;python;condicional\n",
      "19          20;import;python;n\n",
      "20              21;in;python;n\n",
      "21              22;is;python;n\n",
      "22          23;lambda;python;n\n",
      "23            24;None;python;n\n",
      "24        25;nonlocal;python;n\n",
      "25      26;not;python;operador\n",
      "26       27;or;python;operador\n",
      "27            28;pass;python;n\n",
      "28           29;raise;python;n\n",
      "29          30;return;python;n\n",
      "30            31;True;python;n\n",
      "31             32;try;python;n\n",
      "32       33;while;python;ciclo\n",
      "33            34;with;python;n\n",
      "34           35;yield;python;n\n"
     ]
    }
   ],
   "source": [
    "import pandas as pd\n",
    "\n",
    "url = 'https://drive.google.com/uc?id=1MqW2EpcIAnmffzu64-bq4kBv-07y9ILT'\n",
    "df = pd.read_csv(url)\n",
    "\n",
    "print (df)"
   ]
  },
  {
   "cell_type": "code",
   "execution_count": 12,
   "metadata": {},
   "outputs": [
    {
     "name": "stderr",
     "output_type": "stream",
     "text": [
      "c:\\Users\\ProaLaFalda\\AppData\\Local\\Programs\\Python\\Python311\\Lib\\site-packages\\gdown\\parse_url.py:44: UserWarning: You specified a Google Drive link that is not the correct link to download a file. You might want to try `--fuzzy` option or the following url: https://drive.google.com/uc?id=1MqW2EpcIAnmffzu64-bq4kBv-07y9ILT\n",
      "  warnings.warn(\n",
      "Downloading...\n",
      "From: https://drive.google.com/file/d/1MqW2EpcIAnmffzu64-bq4kBv-07y9ILT/view?usp=drive_link\n",
      "To: c:\\Users\\ProaLaFalda\\Documents\\GitHub\\Git_Jord-n\\Python\\glosario.csv\n",
      "82.2kB [00:00, ?B/s]\n"
     ]
    },
    {
     "name": "stdout",
     "output_type": "stream",
     "text": [
      "    <!DOCTYPE html><html><head><meta name=\"google\" content=\"notranslate\"><meta http-equiv=\"X-UA-Compatible\" content=\"IE=edge;\"><style nonce=\"WvOdDWNO3TTaWHS4JgqX-g\">@font-face{font-family:'Roboto';font-style:italic;font-weight:400;src:url(//fonts.gstatic.com/s/roboto/v18/KFOkCnqEu92Fr1Mu51xIIzc.ttf)format('truetype');}@font-face{font-family:'Roboto';font-style:normal;font-weight:300;src:url(//fonts.gstatic.com/s/roboto/v18/KFOlCnqEu92Fr1MmSU5fBBc9.ttf)format('truetype');}@font-face{font-family:'Roboto';font-style:normal;font-weight:400;src:url(//fonts.gstatic.com/s/roboto/v18/KFOmCnqEu92Fr1Mu4mxP.ttf)format('truetype');}@font-face{font-family:'Roboto';font-style:normal;font-weight:500;src:url(//fonts.gstatic.com/s/roboto/v18/KFOlCnqEu92Fr1MmEU9fBBc9.ttf)format('truetype');}@font-face{font-family:'Roboto';font-style:normal;font-weight:700;src:url(//fonts.gstatic.com/s/roboto/v18/KFOlCnqEu92Fr1MmWUlfBBc9.ttf)format('truetype');}</style><meta name=\"referrer\" content=\"origin\"><title>glosario.csv - Google Drive</title><meta property=\"og:title\" content=\"glosario.csv\"><meta property=\"og:type\" content=\"article\"><meta property=\"og:site_name\" content=\"Google Docs\"><meta property=\"og:url\" content=\"https://drive.google.com/file/d/1MqW2EpcIAnmffzu64-bq4kBv-07y9ILT/view?usp=drive_link&amp;usp=embed_facebook\"><link rel=\"shortcut icon\" href=\"https://ssl.gstatic.com/images/branding/product/1x/drive_2020q4_32dp.png\"><link rel=\"stylesheet\" href=\"https://fonts.googleapis.com/css?family=Google+Sans:300  \\\n",
      "0                                                 try{                                                                                                                                                                                                                                                                                                                                                                                                                                                                                                                                                                                                                                                                                                                                                                                                                                                                                                                                                                                                                                                                                                                                                                                                                                                                                                                                                                                                                                                                                                               \n",
      "1                                                   /*                                                                                                                                                                                                                                                                                                                                                                                                                                                                                                                                                                                                                                                                                                                                                                                                                                                                                                                                                                                                                                                                                                                                                                                                                                                                                                                                                                                                                                                                                                               \n",
      "2               Copyright The Closure Library Authors.                                                                                                                                                                                                                                                                                                                                                                                                                                                                                                                                                                                                                                                                                                                                                                                                                                                                                                                                                                                                                                                                                                                                                                                                                                                                                                                                                                                                                                                                                                               \n",
      "3                  SPDX-License-Identifier: Apache-2.0                                                                                                                                                                                                                                                                                                                                                                                                                                                                                                                                                                                                                                                                                                                                                                                                                                                                                                                                                                                                                                                                                                                                                                                                                                                                                                                                                                                                                                                                                                               \n",
      "4                                                   */                                                                                                                                                                                                                                                                                                                                                                                                                                                                                                                                                                                                                                                                                                                                                                                                                                                                                                                                                                                                                                                                                                                                                                                                                                                                                                                                                                                                                                                                                                               \n",
      "..                                                 ...                                                                                                                                                                                                                                                                                                                                                                                                                                                                                                                                                                                                                                                                                                                                                                                                                                                                                                                                                                                                                                                                                                                                                                                                                                                                                                                                                                                                                                                                                                               \n",
      "119                                  var ek=function(a                                                                                                                                                                                                                                                                                                                                                                                                                                                                                                                                                                                                                                                                                                                                                                                                                                                                                                                                                                                                                                                                                                                                                                                                                                                                                                                                                                                                                                                                                                               \n",
      "120                     }catch(e){_._DumpException(e)}                                                                                                                                                                                                                                                                                                                                                                                                                                                                                                                                                                                                                                                                                                                                                                                                                                                                                                                                                                                                                                                                                                                                                                                                                                                                                                                                                                                                                                                                                                               \n",
      "121                                    })(this.gbar_);                                                                                                                                                                                                                                                                                                                                                                                                                                                                                                                                                                                                                                                                                                                                                                                                                                                                                                                                                                                                                                                                                                                                                                                                                                                                                                                                                                                                                                                                                                               \n",
      "122                                     // Google Inc.                                                                                                                                                                                                                                                                                                                                                                                                                                                                                                                                                                                                                                                                                                                                                                                                                                                                                                                                                                                                                                                                                                                                                                                                                                                                                                                                                                                                                                                                                                               \n",
      "123  </script><script id=\"base-js\" async type=\"text...                                                                                                                                                                                                                                                                                                                                                                                                                                                                                                                                                                                                                                                                                                                                                                                                                                                                                                                                                                                                                                                                                                                                                                                                                                                                                                                                                                                                                                                                                                               \n",
      "\n",
      "                                                   400            500  \\\n",
      "0                                                  NaN            NaN   \n",
      "1                                                  NaN            NaN   \n",
      "2                                                  NaN            NaN   \n",
      "3                                                  NaN            NaN   \n",
      "4                                                  NaN            NaN   \n",
      "..                                                 ...            ...   \n",
      "119                                                  b  c){a<b?dk(a+1   \n",
      "120                                                NaN            NaN   \n",
      "121                                                NaN            NaN   \n",
      "122                                                NaN            NaN   \n",
      "123  wb\" nonce=\"FCGuj04uub-EHMWh1k5_AQ\"></script></...            NaN   \n",
      "\n",
      "    700\" nonce=\"WvOdDWNO3TTaWHS4JgqX-g\"><link rel=\"stylesheet\" href=\"https://www.gstatic.com/_/apps-fileview/_/ss/k=apps-fileview.v.CpYcGs6hJV0.L.X.O/d=0/rs=AO0039v02GiVKga73EjbgaFaD9krYPJYPw\" nonce=\"WvOdDWNO3TTaWHS4JgqX-g\"><script nonce=\"FCGuj04uub-EHMWh1k5_AQ\">_docs_flag_initialData={\"docs-ails\":\"docs_cold\"  \\\n",
      "0                                                  NaN                                                                                                                                                                                                                                                                   \n",
      "1                                                  NaN                                                                                                                                                                                                                                                                   \n",
      "2                                                  NaN                                                                                                                                                                                                                                                                   \n",
      "3                                                  NaN                                                                                                                                                                                                                                                                   \n",
      "4                                                  NaN                                                                                                                                                                                                                                                                   \n",
      "..                                                 ...                                                                                                                                                                                                                                                                   \n",
      "119                   b):_.Ud.log(Error(\"ka`\"+a+\"`\"+b)                                                                                                                                                                                                                                                                   \n",
      "120                                                NaN                                                                                                                                                                                                                                                                   \n",
      "121                                                NaN                                                                                                                                                                                                                                                                   \n",
      "122                                                NaN                                                                                                                                                                                                                                                                   \n",
      "123                                                NaN                                                                                                                                                                                                                                                                   \n",
      "\n",
      "    docs-fwds:\"docs_sdf\" docs-crs:\"docs_crs_nl\"  \\\n",
      "0                    NaN                    NaN   \n",
      "1                    NaN                    NaN   \n",
      "2                    NaN                    NaN   \n",
      "3                    NaN                    NaN   \n",
      "4                    NaN                    NaN   \n",
      "..                   ...                    ...   \n",
      "119            {url:c})}          dk=function(a   \n",
      "120                  NaN                    NaN   \n",
      "121                  NaN                    NaN   \n",
      "122                  NaN                    NaN   \n",
      "123                  NaN                    NaN   \n",
      "\n",
      "                                          docs-fe-re:2 docs-fl:1 docs-l1lc:3  \\\n",
      "0                                                  NaN       NaN         NaN   \n",
      "1                                                  NaN       NaN         NaN   \n",
      "2                                                  NaN       NaN         NaN   \n",
      "3                                                  NaN       NaN         NaN   \n",
      "4                                                  NaN       NaN         NaN   \n",
      "..                                                 ...       ...         ...   \n",
      "119  b){if(fk){var c=_.Le(\"SCRIPT\");c.async=!0;c.ty...         a           b   \n",
      "120                                                NaN       NaN         NaN   \n",
      "121                                                NaN       NaN         NaN   \n",
      "122                                                NaN       NaN         NaN   \n",
      "123                                                NaN       NaN         NaN   \n",
      "\n",
      "                             docs-l1lm:\"BOG\"  ... 0.74 0.75 0.76 1.80  \\\n",
      "0                                        NaN  ...  NaN  NaN  NaN  NaN   \n",
      "1                                        NaN  ...  NaN  NaN  NaN  NaN   \n",
      "2                                        NaN  ...  NaN  NaN  NaN  NaN   \n",
      "3                                        NaN  ...  NaN  NaN  NaN  NaN   \n",
      "4                                        NaN  ...  NaN  NaN  NaN  NaN   \n",
      "..                                       ...  ...  ...  ...  ...  ...   \n",
      "119  c.src);_.ck(\"HEAD\")[0].appendChild(c)}}  ...  NaN  NaN  NaN  NaN   \n",
      "120                                      NaN  ...  NaN  NaN  NaN  NaN   \n",
      "121                                      NaN  ...  NaN  NaN  NaN  NaN   \n",
      "122                                      NaN  ...  NaN  NaN  NaN  NaN   \n",
      "123                                      NaN  ...  NaN  NaN  NaN  NaN   \n",
      "\n",
      "    82159412].1 [[null.2 null.214 null.215  \\\n",
      "0           NaN      NaN      NaN      NaN   \n",
      "1           NaN      NaN      NaN      NaN   \n",
      "2           NaN      NaN      NaN      NaN   \n",
      "3           NaN      NaN      NaN      NaN   \n",
      "4           NaN      NaN      NaN      NaN   \n",
      "..          ...      ...      ...      ...   \n",
      "119         NaN      NaN      NaN      NaN   \n",
      "120         NaN      NaN      NaN      NaN   \n",
      "121         NaN      NaN      NaN      NaN   \n",
      "122         NaN      NaN      NaN      NaN   \n",
      "123         NaN      NaN      NaN      NaN   \n",
      "\n",
      "    https://www.gstatic.com/og/_/js/k=og.qtm.en_US.JlL5R5MZ3oo.es5.O/rt=j/m=qabr,q_dnp,qapid,q_dg/exm=qaaw,qadd,qaid,qein,qhaw,qhba,qhbr,qhch,qhga,qhid,qhin/d=1/ed=1/rs=AA2YrTsXZQ_fnfaAqgYpDltPQCSQ5XXU1Q]]]]  \\\n",
      "0                                                  NaN                                                                                                                                                            \n",
      "1                                                  NaN                                                                                                                                                            \n",
      "2                                                  NaN                                                                                                                                                            \n",
      "3                                                  NaN                                                                                                                                                            \n",
      "4                                                  NaN                                                                                                                                                            \n",
      "..                                                 ...                                                                                                                                                            \n",
      "119                                                NaN                                                                                                                                                            \n",
      "120                                                NaN                                                                                                                                                            \n",
      "121                                                NaN                                                                                                                                                            \n",
      "122                                                NaN                                                                                                                                                            \n",
      "123                                                NaN                                                                                                                                                            \n",
      "\n",
      "    };this.gbar_=this.gbar_||{};(function(_){var window=this;  \n",
      "0                                                  NaN         \n",
      "1                                                  NaN         \n",
      "2                                                  NaN         \n",
      "3                                                  NaN         \n",
      "4                                                  NaN         \n",
      "..                                                 ...         \n",
      "119                                                NaN         \n",
      "120                                                NaN         \n",
      "121                                                NaN         \n",
      "122                                                NaN         \n",
      "123                                                NaN         \n",
      "\n",
      "[124 rows x 900 columns]\n"
     ]
    }
   ],
   "source": [
    "import pandas as pd\n",
    "import gdown\n",
    "\n",
    "# URL directa al archivo CSV en Google Drive\n",
    "url = 'https://drive.google.com/file/d/1MqW2EpcIAnmffzu64-bq4kBv-07y9ILT/view?usp=drive_link'\n",
    "\n",
    "# Nombre de archivo destino\n",
    "output = 'glosario.csv'\n",
    "\n",
    "# Descarga el archivo\n",
    "gdown.download(url, output, quiet=False)\n",
    "\n",
    "# Cargar el conjunto de datos en un DataFrame de Pandas\n",
    "df = pd.read_csv('glosario.csv')\n",
    "print(df)"
   ]
  },
  {
   "cell_type": "code",
   "execution_count": 4,
   "metadata": {},
   "outputs": [
    {
     "name": "stdout",
     "output_type": "stream",
     "text": [
      "  id;Palabra;Lenguaje;Tipo\n",
      "0    1;and;python;operador\n",
      "1            2;as;python;n\n",
      "2        3;assert;python;n\n",
      "3         4;async;python;n\n",
      "4         5;await;python;n\n"
     ]
    }
   ],
   "source": [
    "print(df.head())"
   ]
  },
  {
   "cell_type": "code",
   "execution_count": 5,
   "metadata": {},
   "outputs": [
    {
     "name": "stdout",
     "output_type": "stream",
     "text": [
      "       id;Palabra;Lenguaje;Tipo\n",
      "count                        35\n",
      "unique                       35\n",
      "top       1;and;python;operador\n",
      "freq                          1\n"
     ]
    }
   ],
   "source": [
    "print(df.describe())"
   ]
  },
  {
   "cell_type": "code",
   "execution_count": 6,
   "metadata": {},
   "outputs": [
    {
     "name": "stdout",
     "output_type": "stream",
     "text": [
      "<class 'pandas.core.frame.DataFrame'>\n",
      "RangeIndex: 35 entries, 0 to 34\n",
      "Data columns (total 1 columns):\n",
      " #   Column                    Non-Null Count  Dtype \n",
      "---  ------                    --------------  ----- \n",
      " 0   id;Palabra;Lenguaje;Tipo  35 non-null     object\n",
      "dtypes: object(1)\n",
      "memory usage: 412.0+ bytes\n",
      "None\n"
     ]
    }
   ],
   "source": [
    "print(df.info())"
   ]
  },
  {
   "cell_type": "code",
   "execution_count": 9,
   "metadata": {},
   "outputs": [
    {
     "name": "stdout",
     "output_type": "stream",
     "text": [
      "      id;Palabra;Lenguaje;Tipo\n",
      "0        1;and;python;operador\n",
      "1                2;as;python;n\n",
      "2            3;assert;python;n\n",
      "3             4;async;python;n\n",
      "4             5;await;python;n\n",
      "5         6;break;python;ciclo\n",
      "6             7;class;python;n\n",
      "7    8;continue;python;funcion\n",
      "8         9;def;python;funcion\n",
      "9              10;del;python;n\n",
      "10  11;elif;python;condicional\n",
      "11  12;else;python;condicional\n",
      "12          13;except;python;n\n",
      "13           14;False;python;n\n",
      "14         15;finally;python;n\n",
      "15         16;for;python;ciclo\n",
      "16            17;from;python;n\n",
      "17          18;global;python;n\n",
      "18    19;if;python;condicional\n",
      "19          20;import;python;n\n",
      "20              21;in;python;n\n",
      "21              22;is;python;n\n",
      "22          23;lambda;python;n\n",
      "23            24;None;python;n\n",
      "24        25;nonlocal;python;n\n",
      "25      26;not;python;operador\n",
      "26       27;or;python;operador\n",
      "27            28;pass;python;n\n",
      "28           29;raise;python;n\n",
      "29          30;return;python;n\n",
      "30            31;True;python;n\n",
      "31             32;try;python;n\n",
      "32       33;while;python;ciclo\n",
      "33            34;with;python;n\n",
      "34           35;yield;python;n\n"
     ]
    }
   ],
   "source": [
    "df = df.dropna()\n",
    "print(df)"
   ]
  },
  {
   "cell_type": "code",
   "execution_count": 13,
   "metadata": {},
   "outputs": [
    {
     "ename": "KeyError",
     "evalue": "'columna'",
     "output_type": "error",
     "traceback": [
      "\u001b[1;31m---------------------------------------------------------------------------\u001b[0m",
      "\u001b[1;31mKeyError\u001b[0m                                  Traceback (most recent call last)",
      "File \u001b[1;32mc:\\Users\\ProaLaFalda\\AppData\\Local\\Programs\\Python\\Python311\\Lib\\site-packages\\pandas\\core\\indexes\\base.py:3790\u001b[0m, in \u001b[0;36mIndex.get_loc\u001b[1;34m(self, key)\u001b[0m\n\u001b[0;32m   3789\u001b[0m \u001b[39mtry\u001b[39;00m:\n\u001b[1;32m-> 3790\u001b[0m     \u001b[39mreturn\u001b[39;00m \u001b[39mself\u001b[39;49m\u001b[39m.\u001b[39;49m_engine\u001b[39m.\u001b[39;49mget_loc(casted_key)\n\u001b[0;32m   3791\u001b[0m \u001b[39mexcept\u001b[39;00m \u001b[39mKeyError\u001b[39;00m \u001b[39mas\u001b[39;00m err:\n",
      "File \u001b[1;32mindex.pyx:152\u001b[0m, in \u001b[0;36mpandas._libs.index.IndexEngine.get_loc\u001b[1;34m()\u001b[0m\n",
      "File \u001b[1;32mindex.pyx:181\u001b[0m, in \u001b[0;36mpandas._libs.index.IndexEngine.get_loc\u001b[1;34m()\u001b[0m\n",
      "File \u001b[1;32mpandas\\_libs\\hashtable_class_helper.pxi:7080\u001b[0m, in \u001b[0;36mpandas._libs.hashtable.PyObjectHashTable.get_item\u001b[1;34m()\u001b[0m\n",
      "File \u001b[1;32mpandas\\_libs\\hashtable_class_helper.pxi:7088\u001b[0m, in \u001b[0;36mpandas._libs.hashtable.PyObjectHashTable.get_item\u001b[1;34m()\u001b[0m\n",
      "\u001b[1;31mKeyError\u001b[0m: 'columna'",
      "\nThe above exception was the direct cause of the following exception:\n",
      "\u001b[1;31mKeyError\u001b[0m                                  Traceback (most recent call last)",
      "Cell \u001b[1;32mIn[13], line 2\u001b[0m\n\u001b[0;32m      1\u001b[0m valor \u001b[39m=\u001b[39m \u001b[39m'\u001b[39m\u001b[39mhola mundo\u001b[39m\u001b[39m'\u001b[39m\n\u001b[1;32m----> 2\u001b[0m df[\u001b[39m'\u001b[39m\u001b[39mtipo\u001b[39m\u001b[39m'\u001b[39m] \u001b[39m=\u001b[39m df[\u001b[39m'\u001b[39;49m\u001b[39mcolumna\u001b[39;49m\u001b[39m'\u001b[39;49m]\u001b[39m.\u001b[39mfillna(valor)\n",
      "File \u001b[1;32mc:\\Users\\ProaLaFalda\\AppData\\Local\\Programs\\Python\\Python311\\Lib\\site-packages\\pandas\\core\\frame.py:3896\u001b[0m, in \u001b[0;36mDataFrame.__getitem__\u001b[1;34m(self, key)\u001b[0m\n\u001b[0;32m   3894\u001b[0m \u001b[39mif\u001b[39;00m \u001b[39mself\u001b[39m\u001b[39m.\u001b[39mcolumns\u001b[39m.\u001b[39mnlevels \u001b[39m>\u001b[39m \u001b[39m1\u001b[39m:\n\u001b[0;32m   3895\u001b[0m     \u001b[39mreturn\u001b[39;00m \u001b[39mself\u001b[39m\u001b[39m.\u001b[39m_getitem_multilevel(key)\n\u001b[1;32m-> 3896\u001b[0m indexer \u001b[39m=\u001b[39m \u001b[39mself\u001b[39;49m\u001b[39m.\u001b[39;49mcolumns\u001b[39m.\u001b[39;49mget_loc(key)\n\u001b[0;32m   3897\u001b[0m \u001b[39mif\u001b[39;00m is_integer(indexer):\n\u001b[0;32m   3898\u001b[0m     indexer \u001b[39m=\u001b[39m [indexer]\n",
      "File \u001b[1;32mc:\\Users\\ProaLaFalda\\AppData\\Local\\Programs\\Python\\Python311\\Lib\\site-packages\\pandas\\core\\indexes\\base.py:3797\u001b[0m, in \u001b[0;36mIndex.get_loc\u001b[1;34m(self, key)\u001b[0m\n\u001b[0;32m   3792\u001b[0m     \u001b[39mif\u001b[39;00m \u001b[39misinstance\u001b[39m(casted_key, \u001b[39mslice\u001b[39m) \u001b[39mor\u001b[39;00m (\n\u001b[0;32m   3793\u001b[0m         \u001b[39misinstance\u001b[39m(casted_key, abc\u001b[39m.\u001b[39mIterable)\n\u001b[0;32m   3794\u001b[0m         \u001b[39mand\u001b[39;00m \u001b[39many\u001b[39m(\u001b[39misinstance\u001b[39m(x, \u001b[39mslice\u001b[39m) \u001b[39mfor\u001b[39;00m x \u001b[39min\u001b[39;00m casted_key)\n\u001b[0;32m   3795\u001b[0m     ):\n\u001b[0;32m   3796\u001b[0m         \u001b[39mraise\u001b[39;00m InvalidIndexError(key)\n\u001b[1;32m-> 3797\u001b[0m     \u001b[39mraise\u001b[39;00m \u001b[39mKeyError\u001b[39;00m(key) \u001b[39mfrom\u001b[39;00m \u001b[39merr\u001b[39;00m\n\u001b[0;32m   3798\u001b[0m \u001b[39mexcept\u001b[39;00m \u001b[39mTypeError\u001b[39;00m:\n\u001b[0;32m   3799\u001b[0m     \u001b[39m# If we have a listlike key, _check_indexing_error will raise\u001b[39;00m\n\u001b[0;32m   3800\u001b[0m     \u001b[39m#  InvalidIndexError. Otherwise we fall through and re-raise\u001b[39;00m\n\u001b[0;32m   3801\u001b[0m     \u001b[39m#  the TypeError.\u001b[39;00m\n\u001b[0;32m   3802\u001b[0m     \u001b[39mself\u001b[39m\u001b[39m.\u001b[39m_check_indexing_error(key)\n",
      "\u001b[1;31mKeyError\u001b[0m: 'columna'"
     ]
    }
   ],
   "source": [
    "valor = 'hola mundo'\n",
    "df['tipo'] = df['tipo'].fillna(valor)"
   ]
  },
  {
   "cell_type": "code",
   "execution_count": null,
   "metadata": {},
   "outputs": [],
   "source": [
    "df = df.drop_duplicates()"
   ]
  }
 ],
 "metadata": {
  "kernelspec": {
   "display_name": "Python 3",
   "language": "python",
   "name": "python3"
  },
  "language_info": {
   "codemirror_mode": {
    "name": "ipython",
    "version": 3
   },
   "file_extension": ".py",
   "mimetype": "text/x-python",
   "name": "python",
   "nbconvert_exporter": "python",
   "pygments_lexer": "ipython3",
   "version": "3.11.5"
  },
  "orig_nbformat": 4
 },
 "nbformat": 4,
 "nbformat_minor": 2
}
