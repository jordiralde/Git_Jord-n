{
 "cells": [
  {
   "cell_type": "code",
   "execution_count": 6,
   "metadata": {},
   "outputs": [
    {
     "name": "stdout",
     "output_type": "stream",
     "text": [
      "      id;Palabra;Lenguaje;Tipo\n",
      "0        1;and;python;operador\n",
      "1                2;as;python;n\n",
      "2            3;assert;python;n\n",
      "3             4;async;python;n\n",
      "4             5;await;python;n\n",
      "5         6;break;python;ciclo\n",
      "6             7;class;python;n\n",
      "7    8;continue;python;funcion\n",
      "8         9;def;python;funcion\n",
      "9              10;del;python;n\n",
      "10  11;elif;python;condicional\n",
      "11  12;else;python;condicional\n",
      "12          13;except;python;n\n",
      "13           14;False;python;n\n",
      "14         15;finally;python;n\n",
      "15         16;for;python;ciclo\n",
      "16            17;from;python;n\n",
      "17          18;global;python;n\n",
      "18    19;if;python;condicional\n",
      "19          20;import;python;n\n",
      "20              21;in;python;n\n",
      "21              22;is;python;n\n",
      "22          23;lambda;python;n\n",
      "23            24;None;python;n\n",
      "24        25;nonlocal;python;n\n",
      "25      26;not;python;operador\n",
      "26       27;or;python;operador\n",
      "27            28;pass;python;n\n",
      "28           29;raise;python;n\n",
      "29          30;return;python;n\n",
      "30            31;True;python;n\n",
      "31             32;try;python;n\n",
      "32       33;while;python;ciclo\n",
      "33            34;with;python;n\n",
      "34           35;yield;python;n\n"
     ]
    }
   ],
   "source": [
    "import pandas as pd\n",
    "import numpy as np #quiza no es necesario\n",
    "\n",
    "url = 'https://drive.google.com/uc?id=1MqW2EpcIAnmffzu64-bq4kBv-07y9ILT'\n",
    "df = pd.read_csv(url, delimiter=';')\n",
    "\n",
    "print (df)"
   ]
  },
  {
   "cell_type": "code",
   "execution_count": null,
   "metadata": {},
   "outputs": [],
   "source": [
    "print(df.head())"
   ]
  },
  {
   "cell_type": "code",
   "execution_count": null,
   "metadata": {},
   "outputs": [],
   "source": [
    "print(df.describe())"
   ]
  },
  {
   "cell_type": "code",
   "execution_count": null,
   "metadata": {},
   "outputs": [],
   "source": [
    "print(df.info())"
   ]
  },
  {
   "cell_type": "code",
   "execution_count": null,
   "metadata": {},
   "outputs": [],
   "source": [
    "df = df.dropna()\n",
    "print(df)"
   ]
  },
  {
   "cell_type": "code",
   "execution_count": 3,
   "metadata": {},
   "outputs": [
    {
     "name": "stdout",
     "output_type": "stream",
     "text": [
      "Index(['id;Palabra;Lenguaje;Tipo'], dtype='object')\n"
     ]
    }
   ],
   "source": [
    "print(df.columns)\n",
    "#df['NuevaColumna'] = None   #Esto agreaga una nueva columna, solo que queda raro"
   ]
  },
  {
   "cell_type": "code",
   "execution_count": 18,
   "metadata": {},
   "outputs": [
    {
     "ename": "NameError",
     "evalue": "name 'np' is not defined",
     "output_type": "error",
     "traceback": [
      "\u001b[1;31m---------------------------------------------------------------------------\u001b[0m",
      "\u001b[1;31mNameError\u001b[0m                                 Traceback (most recent call last)",
      "Cell \u001b[1;32mIn[18], line 1\u001b[0m\n\u001b[1;32m----> 1\u001b[0m df\u001b[39m.\u001b[39miloc[\u001b[39m2\u001b[39m, \u001b[39m1\u001b[39m] \u001b[39m=\u001b[39m np\u001b[39m.\u001b[39mnan\n\u001b[0;32m      2\u001b[0m \u001b[39mprint\u001b[39m(df)\n",
      "\u001b[1;31mNameError\u001b[0m: name 'np' is not defined"
     ]
    }
   ],
   "source": [
    "df.iloc[2, 1] = np.nan\n",
    "print(df)"
   ]
  },
  {
   "cell_type": "code",
   "execution_count": 23,
   "metadata": {},
   "outputs": [],
   "source": [
    "valor = 'hola mundo'\n",
    "#df['NuevaColumna'] = df['NuevaColumna'].fillna(valor)"
   ]
  },
  {
   "cell_type": "code",
   "execution_count": 24,
   "metadata": {},
   "outputs": [
    {
     "name": "stdout",
     "output_type": "stream",
     "text": [
      "    id   Palabra Lenguaje Tipo\n",
      "0    1     False   python    n\n",
      "1    2      True      NaN  NaN\n",
      "2    3       and      NaN  NaN\n",
      "3    4        as      NaN  NaN\n",
      "4    5    assert      NaN  NaN\n",
      "5    6     async      NaN  NaN\n",
      "6    7     await      NaN  NaN\n",
      "7    8     break      NaN  NaN\n",
      "8    9     class      NaN  NaN\n",
      "9   10  continue      NaN  NaN\n",
      "10  11       def      NaN  NaN\n",
      "11  12       del      NaN  NaN\n",
      "12  13      elif      NaN  NaN\n",
      "13  14      else      NaN  NaN\n",
      "14  15    except      NaN  NaN\n",
      "15  16   finally      NaN  NaN\n",
      "16  17       for      NaN  NaN\n",
      "17  18      from      NaN  NaN\n",
      "18  19    global      NaN  NaN\n",
      "19  20        if      NaN  NaN\n",
      "20  21    import      NaN  NaN\n",
      "21  22        in      NaN  NaN\n",
      "22  23        is      NaN  NaN\n",
      "23  25    lambda      NaN  NaN\n",
      "24  26  nonlocal      NaN  NaN\n",
      "25  27       not      NaN  NaN\n",
      "26  28        or      NaN  NaN\n",
      "27  29      pass      NaN  NaN\n",
      "28  30     raise      NaN  NaN\n",
      "29  31    return      NaN  NaN\n",
      "30  32       try      NaN  NaN\n",
      "31  33     while      NaN  NaN\n",
      "32  34      with      NaN  NaN\n",
      "33  35     yield      NaN  NaN\n"
     ]
    }
   ],
   "source": [
    "df = pd.read_csv(url, delimiter=';')\n",
    "df = df.dropna()\n",
    "moda = df['Tipo'].mode()\n",
    "print(moda)\n"
   ]
  },
  {
   "cell_type": "code",
   "execution_count": 25,
   "metadata": {},
   "outputs": [],
   "source": [
    "df = df.drop_duplicates()"
   ]
  }
 ],
 "metadata": {
  "kernelspec": {
   "display_name": "Python 3",
   "language": "python",
   "name": "python3"
  },
  "language_info": {
   "codemirror_mode": {
    "name": "ipython",
    "version": 3
   },
   "file_extension": ".py",
   "mimetype": "text/x-python",
   "name": "python",
   "nbconvert_exporter": "python",
   "pygments_lexer": "ipython3",
   "version": "3.11.5"
  },
  "orig_nbformat": 4
 },
 "nbformat": 4,
 "nbformat_minor": 2
}
